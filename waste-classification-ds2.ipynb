{
  "cells": [
    {
      "cell_type": "code",
      "execution_count": null,
      "metadata": {
        "colab": {
          "base_uri": "https://localhost:8080/"
        },
        "id": "XeQh4UfJWf0t",
        "outputId": "ac2f0219-b19e-4068-ee43-44f5dde6d76f"
      },
      "outputs": [
        {
          "output_type": "stream",
          "name": "stdout",
          "text": [
            "Cloning into 'dataset-organik-anorganik'...\n",
            "remote: Enumerating objects: 24760, done.\u001b[K\n",
            "remote: Total 24760 (delta 0), reused 0 (delta 0), pack-reused 24760\u001b[K\n",
            "Receiving objects: 100% (24760/24760), 207.36 MiB | 28.57 MiB/s, done.\n",
            "Updating files: 100% (50154/50154), done.\n"
          ]
        }
      ],
      "source": [
        "!git clone https://github.com/devaldicaliesta/dataset-organik-anorganik.git"
      ]
    },
    {
      "cell_type": "code",
      "execution_count": null,
      "metadata": {
        "id": "Fn_ns134WgQY"
      },
      "outputs": [],
      "source": [
        "# Dependencies\n",
        "import pandas as pd\n",
        "import numpy as np\n",
        "import logging\n",
        "import tensorflow as tf\n",
        "import warnings\n",
        "import glob\n",
        "import tqdm\n",
        "import os\n",
        "\n",
        "\n",
        "from tqdm import tqdm\n",
        "from IPython import display\n",
        "import matplotlib.pyplot as plt\n",
        "import seaborn as sns\n",
        "from seaborn import heatmap\n",
        "\n",
        "from sklearn.model_selection import train_test_split\n",
        "from sklearn.metrics import confusion_matrix, classification_report\n",
        "\n",
        "from skimage.io import imread, imshow\n",
        "from skimage.transform import resize\n",
        "from keras.preprocessing import image\n",
        "\n",
        "from keras.models import Sequential, load_model\n",
        "from keras.layers import Conv2D, Lambda, MaxPooling2D, Dense, Dropout, Flatten # convolution layers & core layers\n",
        "\n",
        "from tensorflow.keras.layers import BatchNormalization\n",
        "from keras.preprocessing.image import ImageDataGenerator\n",
        "from keras.utils.np_utils import to_categorical\n",
        "\n",
        "from tensorflow import keras\n",
        "from tensorflow.keras import Model\n",
        "from tensorflow.keras.applications.inception_v3 import InceptionV3\n",
        "from tensorflow.keras.applications import MobileNetV3Large\n",
        "from tensorflow.keras.layers import Dropout, GlobalAveragePooling2D, BatchNormalization, Dense\n",
        "from tensorflow.keras import activations, regularizers, initializers\n",
        "from tensorflow.keras.preprocessing import image_dataset_from_directory\n",
        "from tensorflow.keras.preprocessing.image import load_img, img_to_array\n",
        "from tensorflow.keras.callbacks import EarlyStopping, ModelCheckpoint, History\n",
        "\n",
        "import tensorflow as tf\n",
        "import numpy as np\n",
        "import matplotlib.pyplot as plt\n",
        "import random\n",
        "import math\n",
        "import os\n",
        "import cv2 as cv\n",
        "from sklearn.linear_model import LinearRegression\n",
        "from sklearn.preprocessing import PolynomialFeatures, StandardScaler, LabelEncoder\n",
        "from sklearn.model_selection import train_test_split"
      ]
    },
    {
      "cell_type": "code",
      "execution_count": null,
      "metadata": {
        "colab": {
          "base_uri": "https://localhost:8080/"
        },
        "id": "hmyFd2wxWhaI",
        "outputId": "3d1ea952-8c37-407d-9df8-4629824f5063"
      },
      "outputs": [
        {
          "output_type": "stream",
          "name": "stdout",
          "text": [
            "Jumlah file dalam direktori /content/dataset-organik-anorganik/DATASET adalah: 25077\n",
            "\n",
            "\n",
            "Jumlah file dalam folder /content/dataset-organik-anorganik/DATASET/TRAIN adalah: 22564\n",
            "Jumlah file dalam folder /content/dataset-organik-anorganik/DATASET/TEST adalah: 2513\n",
            "Jumlah file dalam folder /content/dataset-organik-anorganik/DATASET/TRAIN/R adalah: 9999\n",
            "Jumlah file dalam folder /content/dataset-organik-anorganik/DATASET/TRAIN/O adalah: 12565\n",
            "Jumlah file dalam folder /content/dataset-organik-anorganik/DATASET/TEST/R adalah: 1112\n",
            "Jumlah file dalam folder /content/dataset-organik-anorganik/DATASET/TEST/O adalah: 1401\n"
          ]
        }
      ],
      "source": [
        "import os\n",
        "\n",
        "DIR = \"/content/dataset-organik-anorganik/DATASET\"\n",
        "\n",
        "# Fungsi untuk menghitung jumlah file dalam suatu direktori\n",
        "def count_files(directory):\n",
        "    count = 0\n",
        "    for _, _, files in os.walk(directory):\n",
        "        count += len(files)\n",
        "    return count\n",
        "\n",
        "# Fungsi untuk mengecek jumlah file dalam setiap folder\n",
        "def count_files_in_folders(directory):\n",
        "    folder_count = {}\n",
        "    for root, dirs, _ in os.walk(directory):\n",
        "        for dir_name in dirs:\n",
        "            folder_path = os.path.join(root, dir_name)\n",
        "            file_count = count_files(folder_path)\n",
        "            folder_count[folder_path] = file_count\n",
        "    return folder_count\n",
        "\n",
        "# Memanggil fungsi count_files_in_folders untuk mendapatkan jumlah file dalam setiap folder\n",
        "folder_counts = count_files_in_folders(DIR)\n",
        "\n",
        "# Memanggil fungsi count_files untuk menghitung jumlah file\n",
        "file_count = count_files(DIR)\n",
        "\n",
        "# Menampilkan hasil\n",
        "print(\"Jumlah file dalam direktori\", DIR, \"adalah:\", file_count)\n",
        "print('\\n')\n",
        "\n",
        "# Menampilkan hasil\n",
        "for folder, count in folder_counts.items():\n",
        "    print(\"Jumlah file dalam folder\", folder, \"adalah:\", count)"
      ]
    },
    {
      "cell_type": "code",
      "execution_count": null,
      "metadata": {
        "id": "MFWLbHJ0Wive"
      },
      "outputs": [],
      "source": [
        "base_dir=\"/content/dataset-organik-anorganik/DATASET\"\n",
        "train_dir=os.path.join(base_dir,\"TRAIN\")\n",
        "test_dir=os.path.join(base_dir,\"TEST\")"
      ]
    },
    {
      "cell_type": "code",
      "execution_count": null,
      "metadata": {
        "colab": {
          "base_uri": "https://localhost:8080/"
        },
        "id": "8ZZVhGoZWkUR",
        "outputId": "6c5e075e-831f-460d-ea4c-90e80c236fbe"
      },
      "outputs": [
        {
          "output_type": "stream",
          "name": "stdout",
          "text": [
            "Number of training samples: 22564\n"
          ]
        }
      ],
      "source": [
        "# Os path join (train)\n",
        "\n",
        "train_o = glob.glob(os.path.join(train_dir, 'O', '*.jpg'))\n",
        "train_r = glob.glob(os.path.join(train_dir, 'R', '*.jpg'))\n",
        "\n",
        "a = len(train_o)\n",
        "b = len(train_r)\n",
        "\n",
        "print(\"Number of training samples: {}\".format(a+b))"
      ]
    },
    {
      "cell_type": "code",
      "execution_count": null,
      "metadata": {
        "colab": {
          "base_uri": "https://localhost:8080/"
        },
        "id": "-TcTLAyXWlNt",
        "outputId": "8f34bf10-a102-46c4-a01d-08660a3757ef"
      },
      "outputs": [
        {
          "output_type": "stream",
          "name": "stdout",
          "text": [
            "Number of test samples: 2513\n"
          ]
        }
      ],
      "source": [
        "# Os path join (test)\n",
        "\n",
        "test_o = glob.glob(os.path.join(test_dir, 'O', '*.jpg'))\n",
        "test_r = glob.glob(os.path.join(test_dir, 'R', '*.jpg'))\n",
        "\n",
        "a = len(test_o)\n",
        "b = len(test_r)\n",
        "\n",
        "\n",
        "print(\"Number of test samples: {}\".format(a+b))"
      ]
    },
    {
      "cell_type": "code",
      "execution_count": null,
      "metadata": {
        "colab": {
          "base_uri": "https://localhost:8080/"
        },
        "id": "0nvr93v8Wm9P",
        "outputId": "55282dc1-afb4-4318-f562-f68d1133e1d7"
      },
      "outputs": [
        {
          "output_type": "stream",
          "name": "stdout",
          "text": [
            "Found 22564 files belonging to 2 classes.\n",
            "Using 18052 files for training.\n",
            "Found 22564 files belonging to 2 classes.\n",
            "Using 4512 files for validation.\n",
            "Found 2513 files belonging to 2 classes.\n"
          ]
        }
      ],
      "source": [
        "train_dataset = tf.keras.preprocessing.image_dataset_from_directory(train_dir,validation_split = 0.2, subset = \"training\", seed=42,\n",
        "                                                                    batch_size=128,\n",
        "                                                                smart_resize=True,image_size=(256, 256))\n",
        "\n",
        "val_dataset = tf.keras.preprocessing.image_dataset_from_directory(train_dir,validation_split = 0.2, subset = \"validation\", seed=42,\n",
        "                                                                  batch_size=128,\n",
        "                                                                smart_resize=True,image_size=(256, 256))\n",
        "\n",
        "test_dataset = tf.keras.preprocessing.image_dataset_from_directory(test_dir, batch_size=128,\n",
        "                                                                smart_resize=True,image_size=(256, 256))"
      ]
    },
    {
      "cell_type": "code",
      "execution_count": null,
      "metadata": {
        "colab": {
          "base_uri": "https://localhost:8080/"
        },
        "id": "qOkFj8ZqWoWf",
        "outputId": "a85aa45f-2982-454f-d56e-7c6aab844f6e"
      },
      "outputs": [
        {
          "output_type": "stream",
          "name": "stdout",
          "text": [
            "There are 2 classes.\n",
            "The class names are: ['O', 'R']\n"
          ]
        }
      ],
      "source": [
        "classes = train_dataset.class_names\n",
        "numClasses = len(train_dataset.class_names)\n",
        "\n",
        "AUTOTUNE = tf.data.AUTOTUNE\n",
        "\n",
        "train_dataset = train_dataset.prefetch(buffer_size=AUTOTUNE)\n",
        "val_dataset = val_dataset.prefetch(buffer_size=AUTOTUNE)\n",
        "test_dataset = test_dataset.prefetch(buffer_size=AUTOTUNE)\n",
        "\n",
        "print(f\"There are {numClasses} classes.\")\n",
        "print(f\"The class names are: {classes}\")"
      ]
    },
    {
      "cell_type": "code",
      "execution_count": null,
      "metadata": {
        "id": "IzgnCymhWp5H"
      },
      "outputs": [],
      "source": [
        "data_augmentation = tf.keras.Sequential([\n",
        "    tf.keras.layers.experimental.preprocessing.Rescaling(1./255),\n",
        "    tf.keras.layers.experimental.preprocessing.RandomFlip(\"horizontal_and_vertical\"),\n",
        "    tf.keras.layers.experimental.preprocessing.RandomRotation(0.2),\n",
        "    tf.keras.layers.experimental.preprocessing.RandomZoom(0.2),\n",
        "])"
      ]
    },
    {
      "cell_type": "code",
      "source": [
        "Inception_V3_Model = tf.keras.applications.InceptionV3(input_shape=(256, 256, 3),weights='imagenet',\n",
        "                                                       include_top=False,classes=numClasses)\n",
        "\n",
        "for layer in Inception_V3_Model.layers[:255]:\n",
        "    layer.trainable = False\n",
        "for layer in Inception_V3_Model.layers[255:]:\n",
        "    layer.trainable = True\n",
        "\n",
        "\n",
        "preprocess_input = tf.keras.applications.inception_v3.preprocess_input\n",
        "global_average_layer = tf.keras.layers.GlobalAveragePooling2D()\n",
        "\n",
        "inputs = tf.keras.Input(shape=(256, 256, 3))\n",
        "x = preprocess_input(inputs)\n",
        "x = Inception_V3_Model(x)\n",
        "x = data_augmentation(x)\n",
        "x = global_average_layer(x)\n",
        "x = tf.keras.layers.Dense(1024, activation='relu')(x)\n",
        "x = tf.keras.layers.Dropout(0.5)(x)\n",
        "outputs = tf.keras.layers.Dense(numClasses, activation='softmax')(x)\n",
        "\n",
        "inception_model = Model(inputs=inputs, outputs=outputs)"
      ],
      "metadata": {
        "colab": {
          "base_uri": "https://localhost:8080/"
        },
        "id": "aOolfIIYkJk3",
        "outputId": "637c43dd-48fc-4b9f-b71b-4070a32d31c7"
      },
      "execution_count": null,
      "outputs": [
        {
          "output_type": "stream",
          "name": "stdout",
          "text": [
            "Downloading data from https://storage.googleapis.com/tensorflow/keras-applications/inception_v3/inception_v3_weights_tf_dim_ordering_tf_kernels_notop.h5\n",
            "87910968/87910968 [==============================] - 0s 0us/step\n"
          ]
        }
      ]
    },
    {
      "cell_type": "code",
      "source": [
        "optimizer = tf.keras.optimizers.Adam(learning_rate=0.0001)\n",
        "loss = tf.keras.losses.SparseCategoricalCrossentropy()\n",
        "\n",
        "inception_model.compile(optimizer=optimizer, loss=loss, metrics=['accuracy'])\n",
        "\n",
        "callbacks = tf.keras.callbacks.EarlyStopping(patience=2,\n",
        "                                             monitor= 'val_loss',\n",
        "                                             mode= 'min')\n",
        "epochs=50\n",
        "history = inception_model.fit(train_dataset,epochs=epochs, callbacks=[callbacks])"
      ],
      "metadata": {
        "colab": {
          "base_uri": "https://localhost:8080/"
        },
        "id": "HgYQtY917Z8X",
        "outputId": "5b768e03-af2a-4d65-8b9a-1d66aa6b8483"
      },
      "execution_count": null,
      "outputs": [
        {
          "output_type": "stream",
          "name": "stdout",
          "text": [
            "Epoch 1/50\n",
            " 11/142 [=>............................] - ETA: 48:47 - loss: 0.6896 - accuracy: 0.5696"
          ]
        }
      ]
    },
    {
      "cell_type": "code",
      "source": [
        "inception_model.summary()"
      ],
      "metadata": {
        "id": "hDZCcsH-kOrr"
      },
      "execution_count": null,
      "outputs": []
    },
    {
      "cell_type": "code",
      "source": [],
      "metadata": {
        "id": "K5h3b9zCkOxg"
      },
      "execution_count": null,
      "outputs": []
    },
    {
      "cell_type": "code",
      "source": [],
      "metadata": {
        "id": "a7XWpdDTkJnW"
      },
      "execution_count": null,
      "outputs": []
    },
    {
      "cell_type": "code",
      "execution_count": null,
      "metadata": {
        "id": "Q6n1pWMpWq7s"
      },
      "outputs": [],
      "source": [
        "baseModel = tf.keras.applications.ResNet152(input_shape=(256, 256, 3), weights='imagenet',\n",
        "                                           include_top=False, classes=numClasses)\n",
        "\n",
        "for layers in baseModel.layers:\n",
        "    layers.trainable=False\n",
        "\n",
        "last_output = baseModel.layers[-1].output\n",
        "x = tf.keras.layers.Dropout(0.5)(last_output)\n",
        "x = tf.keras.layers.Flatten()(x)\n",
        "x = tf.keras.layers.Dense(128)(x)\n",
        "x = tf.keras.layers.ReLU()(x)\n",
        "x = tf.keras.layers.Dense(numClasses, activation='softmax')(x)\n",
        "\n",
        "resnet_model = tf.keras.Model(inputs=baseModel.input, outputs=x)"
      ]
    },
    {
      "cell_type": "code",
      "execution_count": null,
      "metadata": {
        "colab": {
          "base_uri": "https://localhost:8080/"
        },
        "id": "frizvoUzWtrw",
        "outputId": "e1c1e793-ff6f-4da5-e6e3-2e4fa4bad6eb"
      },
      "outputs": [
        {
          "output_type": "stream",
          "name": "stdout",
          "text": [
            "Epoch 1/50\n",
            "142/142 [==============================] - 217s 1s/step - loss: 0.0114 - accuracy: 0.9957 - val_loss: 0.3319 - val_accuracy: 0.9342\n",
            "Epoch 2/50\n",
            "142/142 [==============================] - 204s 1s/step - loss: 0.0131 - accuracy: 0.9947 - val_loss: 0.4418 - val_accuracy: 0.9273\n",
            "Epoch 3/50\n",
            "142/142 [==============================] - 204s 1s/step - loss: 0.0094 - accuracy: 0.9963 - val_loss: 0.3580 - val_accuracy: 0.9406\n"
          ]
        }
      ],
      "source": [
        "optimizer = tf.keras.optimizers.Adam(learning_rate=0.0001)\n",
        "loss = tf.keras.losses.SparseCategoricalCrossentropy()\n",
        "\n",
        "resnet_model.compile(optimizer=optimizer,\n",
        "                        loss=loss,\n",
        "                        metrics=['accuracy'])\n",
        "\n",
        "epochs=50\n",
        "callbacks = tf.keras.callbacks.EarlyStopping(patience=2,\n",
        "                                             monitor= 'val_loss',\n",
        "                                             mode= 'min')\n",
        "\n",
        "history = resnet_model.fit(train_dataset, validation_data=val_dataset,\n",
        "                    epochs=epochs, callbacks=[callbacks])"
      ]
    },
    {
      "cell_type": "code",
      "execution_count": null,
      "metadata": {
        "id": "QLROeDKjWug5",
        "colab": {
          "base_uri": "https://localhost:8080/"
        },
        "outputId": "c773d4c1-d8dc-4dd7-c63d-a463ce38c646"
      },
      "outputs": [
        {
          "output_type": "stream",
          "name": "stderr",
          "text": [
            "WARNING:tensorflow:`input_shape` is undefined or non-square, or `rows` is not 224. Weights for input shape (224, 224) will be loaded as the default.\n"
          ]
        }
      ],
      "source": [
        "# Load MobileNetV3Large model with pre-trained weights\n",
        "baseModel = MobileNetV3Large(input_shape=(256, 256, 3), weights='imagenet', include_top=False, classes=numClasses)\n",
        "\n",
        "# Freeze layers except for the last 6 layers\n",
        "for layer in baseModel.layers[:-6]:\n",
        "    layer.trainable = False\n",
        "\n",
        "# Create the model head\n",
        "last_output = baseModel.layers[-1].output\n",
        "x = Dropout(0.45)(last_output)\n",
        "x = GlobalAveragePooling2D()(x)\n",
        "x = BatchNormalization()(x)\n",
        "x = Dense(256, activation=activations.elu, kernel_regularizer=regularizers.l1(0.045),\n",
        "          activity_regularizer=regularizers.l1(0.045), kernel_initializer=initializers.he_normal())(x)\n",
        "x = Dropout(0.45)(x)\n",
        "outputs = Dense(numClasses, activation='softmax')(x)\n",
        "\n",
        "# Create the final model\n",
        "mobilenet_model = Model(inputs=baseModel.input, outputs=outputs)"
      ]
    },
    {
      "cell_type": "code",
      "execution_count": null,
      "metadata": {
        "id": "4jRltG3TWv52",
        "colab": {
          "base_uri": "https://localhost:8080/"
        },
        "outputId": "488903e5-dd5b-4f48-972b-6b279c2aa8fb"
      },
      "outputs": [
        {
          "output_type": "stream",
          "name": "stdout",
          "text": [
            "Epoch 1/50\n",
            "142/142 [==============================] - 46s 279ms/step - loss: 74.7039 - accuracy: 0.8810 - val_loss: 2.7501 - val_accuracy: 0.8706\n",
            "Epoch 2/50\n",
            "142/142 [==============================] - 42s 290ms/step - loss: 2.4984 - accuracy: 0.9158 - val_loss: 2.8193 - val_accuracy: 0.9078\n",
            "Epoch 3/50\n",
            "142/142 [==============================] - 39s 271ms/step - loss: 2.4267 - accuracy: 0.9278 - val_loss: 2.6836 - val_accuracy: 0.9342\n",
            "Epoch 4/50\n",
            "142/142 [==============================] - 39s 264ms/step - loss: 2.3631 - accuracy: 0.9345 - val_loss: 2.4697 - val_accuracy: 0.9397\n",
            "Epoch 5/50\n",
            "142/142 [==============================] - 42s 288ms/step - loss: 2.3034 - accuracy: 0.9406 - val_loss: 2.8084 - val_accuracy: 0.9362\n",
            "Epoch 6/50\n",
            "142/142 [==============================] - 39s 269ms/step - loss: 2.3639 - accuracy: 0.9429 - val_loss: 2.3202 - val_accuracy: 0.9448\n",
            "Epoch 7/50\n",
            "142/142 [==============================] - 38s 262ms/step - loss: 2.2498 - accuracy: 0.9444 - val_loss: 2.3082 - val_accuracy: 0.9468\n",
            "Epoch 8/50\n",
            "142/142 [==============================] - 41s 282ms/step - loss: 2.2351 - accuracy: 0.9501 - val_loss: 2.2981 - val_accuracy: 0.9466\n",
            "Epoch 9/50\n",
            "142/142 [==============================] - 39s 265ms/step - loss: 2.2279 - accuracy: 0.9522 - val_loss: 3.6227 - val_accuracy: 0.6844\n",
            "Epoch 10/50\n",
            "142/142 [==============================] - 39s 266ms/step - loss: 2.5031 - accuracy: 0.9496 - val_loss: 2.4468 - val_accuracy: 0.9523\n"
          ]
        }
      ],
      "source": [
        "mobilenet_model.compile(optimizer=tf.keras.optimizers.Adam(learning_rate=0.00125),\n",
        "               loss=tf.keras.losses.SparseCategoricalCrossentropy(from_logits=True),\n",
        "               metrics=['accuracy'])\n",
        "\n",
        "epochs = 50\n",
        "callbacks = tf.keras.callbacks.EarlyStopping(patience=2,\n",
        "                                             monitor= 'val_loss',\n",
        "                                             mode= 'min')\n",
        "\n",
        "history = mobilenet_model.fit(train_dataset, validation_data=val_dataset, epochs=epochs, callbacks=[callbacks])"
      ]
    },
    {
      "cell_type": "code",
      "source": [
        "inception_model =  tf.keras.models.load_model('/content/inception_model(2).h5')"
      ],
      "metadata": {
        "id": "Nsrl6n6RZRU7"
      },
      "execution_count": null,
      "outputs": []
    },
    {
      "cell_type": "code",
      "source": [],
      "metadata": {
        "id": "3D4a87OKdSZL"
      },
      "execution_count": null,
      "outputs": []
    },
    {
      "cell_type": "code",
      "source": [
        "inception_model.evaluate(test_dataset)"
      ],
      "metadata": {
        "colab": {
          "base_uri": "https://localhost:8080/"
        },
        "id": "PhvLmiabdSb4",
        "outputId": "9b4dc19a-86aa-46fc-ecd9-428d8a90c89e"
      },
      "execution_count": null,
      "outputs": [
        {
          "output_type": "stream",
          "name": "stdout",
          "text": [
            "20/20 [==============================] - 21s 567ms/step - loss: 0.2233 - accuracy: 0.9065\n"
          ]
        },
        {
          "output_type": "execute_result",
          "data": {
            "text/plain": [
              "[0.22325260937213898, 0.9064862728118896]"
            ]
          },
          "metadata": {},
          "execution_count": 27
        }
      ]
    },
    {
      "cell_type": "code",
      "execution_count": null,
      "metadata": {
        "id": "nJduyHWgWw1m",
        "colab": {
          "base_uri": "https://localhost:8080/"
        },
        "outputId": "bcf20719-53bf-4b2e-c163-f12b3400494f"
      },
      "outputs": [
        {
          "output_type": "stream",
          "name": "stdout",
          "text": [
            "20/20 [==============================] - 23s 1s/step - loss: 0.5525 - accuracy: 0.8874\n"
          ]
        },
        {
          "output_type": "execute_result",
          "data": {
            "text/plain": [
              "[0.5524502992630005, 0.8873856067657471]"
            ]
          },
          "metadata": {},
          "execution_count": 28
        }
      ],
      "source": [
        "resnet_model.evaluate(test_dataset)"
      ]
    },
    {
      "cell_type": "code",
      "execution_count": null,
      "metadata": {
        "id": "5ARzCP7eWyUx",
        "colab": {
          "base_uri": "https://localhost:8080/"
        },
        "outputId": "b9f142f3-9a87-4448-9145-999a65aab387"
      },
      "outputs": [
        {
          "output_type": "stream",
          "name": "stdout",
          "text": [
            "20/20 [==============================] - 5s 194ms/step - loss: 2.4777 - accuracy: 0.9327\n"
          ]
        },
        {
          "output_type": "execute_result",
          "data": {
            "text/plain": [
              "[2.4776699542999268, 0.9327496886253357]"
            ]
          },
          "metadata": {},
          "execution_count": 60
        }
      ],
      "source": [
        "mobilenet_model.evaluate(test_dataset)"
      ]
    },
    {
      "cell_type": "code",
      "execution_count": null,
      "metadata": {
        "id": "5nEJSo6JWzUO"
      },
      "outputs": [],
      "source": [
        "resnet_model.save('./resnet_model(2).h5')"
      ]
    },
    {
      "cell_type": "code",
      "execution_count": null,
      "metadata": {
        "id": "xPTYD3TzW0tf"
      },
      "outputs": [],
      "source": [
        "mobilenet_model.save('./mobilenet_model(2).h5')"
      ]
    },
    {
      "cell_type": "code",
      "source": [],
      "metadata": {
        "id": "5hkQQlPVZTSO"
      },
      "execution_count": null,
      "outputs": []
    },
    {
      "cell_type": "code",
      "source": [],
      "metadata": {
        "id": "-Jc42touZTWv"
      },
      "execution_count": null,
      "outputs": []
    },
    {
      "cell_type": "code",
      "execution_count": null,
      "metadata": {
        "id": "DzjS4v2bW1rw",
        "colab": {
          "base_uri": "https://localhost:8080/",
          "height": 1000
        },
        "outputId": "68a10dde-e60d-4e0d-d467-78b3c2ae7394"
      },
      "outputs": [
        {
          "output_type": "stream",
          "name": "stdout",
          "text": [
            "4/4 [==============================] - 1s 58ms/step\n",
            "4/4 [==============================] - 0s 58ms/step\n",
            "4/4 [==============================] - 0s 50ms/step\n",
            "4/4 [==============================] - 0s 50ms/step\n",
            "4/4 [==============================] - 0s 54ms/step\n",
            "4/4 [==============================] - 0s 50ms/step\n",
            "4/4 [==============================] - 0s 53ms/step\n",
            "4/4 [==============================] - 0s 62ms/step\n",
            "4/4 [==============================] - 0s 55ms/step\n",
            "4/4 [==============================] - 0s 44ms/step\n",
            "4/4 [==============================] - 0s 40ms/step\n",
            "4/4 [==============================] - 0s 43ms/step\n",
            "4/4 [==============================] - 0s 42ms/step\n",
            "4/4 [==============================] - 0s 42ms/step\n",
            "4/4 [==============================] - 0s 34ms/step\n",
            "4/4 [==============================] - 0s 44ms/step\n",
            "4/4 [==============================] - 0s 41ms/step\n",
            "4/4 [==============================] - 0s 43ms/step\n",
            "4/4 [==============================] - 0s 44ms/step\n",
            "3/3 [==============================] - 1s 42ms/step\n"
          ]
        },
        {
          "output_type": "display_data",
          "data": {
            "text/plain": [
              "<Figure size 1000x1000 with 0 Axes>"
            ]
          },
          "metadata": {}
        },
        {
          "output_type": "display_data",
          "data": {
            "text/plain": [
              "<Figure size 800x600 with 2 Axes>"
            ],
            "image/png": "[encoded data removed]"
          },
          "metadata": {}
        }
      ],
      "source": [
        "import matplotlib.pyplot as plt\n",
        "import numpy as np\n",
        "\n",
        "def plot_confusion_matrix(cm, target_names, cmap='Blues'):\n",
        "    accuracy = np.trace(cm) / float(np.sum(cm))\n",
        "    misclass = 1 - accuracy\n",
        "\n",
        "    plt.figure(figsize=(8, 6))\n",
        "    plt.imshow(cm, interpolation='nearest', cmap=cmap)\n",
        "    plt.title('Confusion matrix MobileNet')\n",
        "    plt.colorbar()\n",
        "\n",
        "    if target_names is not None:\n",
        "        tick_marks = np.arange(len(target_names))\n",
        "        plt.xticks(tick_marks, target_names, rotation=45)\n",
        "        plt.yticks(tick_marks, target_names)\n",
        "\n",
        "    for i in range(cm.shape[0]):\n",
        "        for j in range(cm.shape[1]):\n",
        "            plt.text(j, i, \"{:,}\".format(cm[i, j]),\n",
        "                     horizontalalignment=\"center\",\n",
        "                     color=\"black\")\n",
        "\n",
        "    plt.tight_layout()\n",
        "    plt.ylabel('True label')\n",
        "    plt.xlabel(f'Predicted label\\naccuracy={accuracy:.4f}%; misclass={misclass:.4f}%')\n",
        "    plt.show()\n",
        "\n",
        "plt.figure(figsize=(10, 10))\n",
        "true = []\n",
        "predictions = []\n",
        "\n",
        "# Loop through the test dataset\n",
        "for images, labels in test_dataset:\n",
        "    preds = mobilenet_model.predict(images)  # Assuming you have a model named 'model'\n",
        "    true.extend(labels.numpy())\n",
        "    predictions.extend(np.argmax(preds, axis=1))\n",
        "\n",
        "plot_confusion_matrix(tf.math.confusion_matrix(true, predictions), target_names=classes)"
      ]
    },
    {
      "cell_type": "code",
      "source": [
        "tp = 1381\n",
        "fp = 20\n",
        "fn = 149\n",
        "tn = 963\n",
        "\n",
        "\n",
        "# Calculate precision\n",
        "precision = tp / (tp + fp)\n",
        "\n",
        "# Calculate recall\n",
        "recall = tp / (tp + fn)\n",
        "\n",
        "# Calculate F1 score\n",
        "f1_score = 2 * (precision * recall) / (precision + recall)\n",
        "\n",
        "print(\"Precision:\", precision)\n",
        "print(\"Recall:\", recall)\n",
        "print(\"F1 Score:\", f1_score)"
      ],
      "metadata": {
        "colab": {
          "base_uri": "https://localhost:8080/"
        },
        "id": "_Pvx9XaJ9X9D",
        "outputId": "8891fab3-cd32-4c71-ad7a-33803546cb32"
      },
      "execution_count": null,
      "outputs": [
        {
          "output_type": "stream",
          "name": "stdout",
          "text": [
            "Precision: 0.9857244825124911\n",
            "Recall: 0.9026143790849673\n",
            "F1 Score: 0.9423404981235074\n"
          ]
        }
      ]
    },
    {
      "cell_type": "code",
      "source": [],
      "metadata": {
        "id": "KVaz8Z9U9ZTF"
      },
      "execution_count": null,
      "outputs": []
    },
    {
      "cell_type": "code",
      "execution_count": null,
      "metadata": {
        "id": "ozBKIObjW4Y8",
        "colab": {
          "base_uri": "https://localhost:8080/",
          "height": 1000
        },
        "outputId": "27aa806a-b73b-46ba-85a3-366238896926"
      },
      "outputs": [
        {
          "output_type": "stream",
          "name": "stdout",
          "text": [
            "4/4 [==============================] - 4s 274ms/step\n",
            "4/4 [==============================] - 1s 257ms/step\n",
            "4/4 [==============================] - 1s 258ms/step\n",
            "4/4 [==============================] - 1s 261ms/step\n",
            "4/4 [==============================] - 1s 266ms/step\n",
            "4/4 [==============================] - 1s 255ms/step\n",
            "4/4 [==============================] - 1s 257ms/step\n",
            "4/4 [==============================] - 1s 261ms/step\n",
            "4/4 [==============================] - 1s 263ms/step\n",
            "4/4 [==============================] - 1s 263ms/step\n",
            "4/4 [==============================] - 1s 264ms/step\n",
            "4/4 [==============================] - 1s 264ms/step\n",
            "4/4 [==============================] - 1s 264ms/step\n",
            "4/4 [==============================] - 1s 268ms/step\n",
            "4/4 [==============================] - 1s 266ms/step\n",
            "4/4 [==============================] - 1s 265ms/step\n",
            "4/4 [==============================] - 1s 268ms/step\n",
            "4/4 [==============================] - 1s 268ms/step\n",
            "4/4 [==============================] - 1s 269ms/step\n",
            "3/3 [==============================] - 3s 286ms/step\n"
          ]
        },
        {
          "output_type": "display_data",
          "data": {
            "text/plain": [
              "<Figure size 1000x1000 with 0 Axes>"
            ]
          },
          "metadata": {}
        },
        {
          "output_type": "display_data",
          "data": {
            "text/plain": [
              "<Figure size 800x600 with 2 Axes>"
            ],
            "image/png": "[encoded data removed]"
          },
          "metadata": {}
        }
      ],
      "source": [
        "import matplotlib.pyplot as plt\n",
        "import numpy as np\n",
        "\n",
        "def plot_confusion_matrix(cm, target_names, cmap='Blues'):\n",
        "    accuracy = np.trace(cm) / float(np.sum(cm))\n",
        "    misclass = 1 - accuracy\n",
        "\n",
        "    plt.figure(figsize=(8, 6))\n",
        "    plt.imshow(cm, interpolation='nearest', cmap=cmap)\n",
        "    plt.title('Confusion matrix Resnet')\n",
        "    plt.colorbar()\n",
        "\n",
        "    if target_names is not None:\n",
        "        tick_marks = np.arange(len(target_names))\n",
        "        plt.xticks(tick_marks, target_names, rotation=45)\n",
        "        plt.yticks(tick_marks, target_names)\n",
        "\n",
        "    for i in range(cm.shape[0]):\n",
        "        for j in range(cm.shape[1]):\n",
        "            plt.text(j, i, \"{:,}\".format(cm[i, j]),\n",
        "                     horizontalalignment=\"center\",\n",
        "                     color=\"black\")\n",
        "\n",
        "    plt.tight_layout()\n",
        "    plt.ylabel('True label')\n",
        "    plt.xlabel(f'Predicted label\\naccuracy={accuracy:.4f}%; misclass={misclass:.4f}%')\n",
        "    plt.show()\n",
        "\n",
        "plt.figure(figsize=(10, 10))\n",
        "true = []\n",
        "predictions = []\n",
        "\n",
        "# Loop through the test dataset\n",
        "for images, labels in test_dataset:\n",
        "    preds = resnet_model.predict(images)  # Assuming you have a model named 'model'\n",
        "    true.extend(labels.numpy())\n",
        "    predictions.extend(np.argmax(preds, axis=1))\n",
        "\n",
        "plot_confusion_matrix(tf.math.confusion_matrix(true, predictions), target_names=classes)"
      ]
    },
    {
      "cell_type": "code",
      "source": [
        "tp = 1377\n",
        "fp = 24\n",
        "fn = 259\n",
        "tn = 853\n",
        "\n",
        "\n",
        "# Calculate precision\n",
        "precision = tp / (tp + fp)\n",
        "\n",
        "# Calculate recall\n",
        "recall = tp / (tp + fn)\n",
        "\n",
        "# Calculate F1 score\n",
        "f1_score = 2 * (precision * recall) / (precision + recall)\n",
        "\n",
        "print(\"Precision:\", precision)\n",
        "print(\"Recall:\", recall)\n",
        "print(\"F1 Score:\", f1_score)"
      ],
      "metadata": {
        "colab": {
          "base_uri": "https://localhost:8080/"
        },
        "id": "hBF868DtAdSH",
        "outputId": "903ea871-83f7-4d2e-cc3c-3b5b9eb1adab"
      },
      "execution_count": null,
      "outputs": [
        {
          "output_type": "stream",
          "name": "stdout",
          "text": [
            "Precision: 0.9828693790149893\n",
            "Recall: 0.8416870415647921\n",
            "F1 Score: 0.9068159367797167\n"
          ]
        }
      ]
    },
    {
      "cell_type": "code",
      "execution_count": null,
      "metadata": {
        "id": "5bK6mhS-W6d1",
        "colab": {
          "base_uri": "https://localhost:8080/",
          "height": 1000
        },
        "outputId": "958ecf89-231c-43bf-9e1c-8e609108d3dd"
      },
      "outputs": [
        {
          "output_type": "stream",
          "name": "stdout",
          "text": [
            "4/4 [==============================] - 4s 66ms/step\n",
            "4/4 [==============================] - 0s 81ms/step\n",
            "4/4 [==============================] - 0s 84ms/step\n",
            "4/4 [==============================] - 0s 85ms/step\n",
            "4/4 [==============================] - 0s 85ms/step\n",
            "4/4 [==============================] - 0s 82ms/step\n",
            "4/4 [==============================] - 0s 84ms/step\n",
            "4/4 [==============================] - 0s 86ms/step\n",
            "4/4 [==============================] - 0s 84ms/step\n",
            "4/4 [==============================] - 0s 85ms/step\n",
            "4/4 [==============================] - 0s 85ms/step\n",
            "4/4 [==============================] - 0s 85ms/step\n",
            "4/4 [==============================] - 0s 86ms/step\n",
            "4/4 [==============================] - 0s 88ms/step\n",
            "4/4 [==============================] - 0s 84ms/step\n",
            "4/4 [==============================] - 0s 83ms/step\n",
            "4/4 [==============================] - 0s 85ms/step\n",
            "4/4 [==============================] - 0s 85ms/step\n",
            "4/4 [==============================] - 0s 84ms/step\n",
            "3/3 [==============================] - 3s 866ms/step\n"
          ]
        },
        {
          "output_type": "display_data",
          "data": {
            "text/plain": [
              "<Figure size 1000x1000 with 0 Axes>"
            ]
          },
          "metadata": {}
        },
        {
          "output_type": "display_data",
          "data": {
            "text/plain": [
              "<Figure size 800x600 with 2 Axes>"
            ],
            "image/png": "[encoded data removed]"
          },
          "metadata": {}
        }
      ],
      "source": [
        "import matplotlib.pyplot as plt\n",
        "import numpy as np\n",
        "\n",
        "def plot_confusion_matrix(cm, target_names, cmap='Blues'):\n",
        "    accuracy = np.trace(cm) / float(np.sum(cm))\n",
        "    misclass = 1 - accuracy\n",
        "\n",
        "    plt.figure(figsize=(8, 6))\n",
        "    plt.imshow(cm, interpolation='nearest', cmap=cmap)\n",
        "    plt.title('Confusion matrix inception')\n",
        "    plt.colorbar()\n",
        "\n",
        "    if target_names is not None:\n",
        "        tick_marks = np.arange(len(target_names))\n",
        "        plt.xticks(tick_marks, target_names, rotation=45)\n",
        "        plt.yticks(tick_marks, target_names)\n",
        "\n",
        "    for i in range(cm.shape[0]):\n",
        "        for j in range(cm.shape[1]):\n",
        "            plt.text(j, i, \"{:,}\".format(cm[i, j]),\n",
        "                     horizontalalignment=\"center\",\n",
        "                     color=\"black\")\n",
        "\n",
        "    plt.tight_layout()\n",
        "    plt.ylabel('True label')\n",
        "    plt.xlabel(f'Predicted label\\naccuracy={accuracy:.4f}%; misclass={misclass:.4f}%')\n",
        "    plt.show()\n",
        "\n",
        "plt.figure(figsize=(10, 10))\n",
        "true = []\n",
        "predictions = []\n",
        "\n",
        "# Loop through the test dataset\n",
        "for images, labels in test_dataset:\n",
        "    preds = inception_model.predict(images)  # Assuming you have a model named 'model'\n",
        "    true.extend(labels.numpy())\n",
        "    predictions.extend(np.argmax(preds, axis=1))\n",
        "\n",
        "plot_confusion_matrix(tf.math.confusion_matrix(true, predictions), target_names=classes)"
      ]
    },
    {
      "cell_type": "code",
      "source": [
        "tp = 1365\n",
        "fp = 36\n",
        "fn = 199\n",
        "tn = 913\n",
        "\n",
        "\n",
        "# Calculate precision\n",
        "precision = tp / (tp + fp)\n",
        "\n",
        "# Calculate recall\n",
        "recall = tp / (tp + fn)\n",
        "\n",
        "# Calculate F1 score\n",
        "f1_score = 2 * (precision * recall) / (precision + recall)\n",
        "\n",
        "print(\"Precision:\", precision)\n",
        "print(\"Recall:\", recall)\n",
        "print(\"F1 Score:\", f1_score)"
      ],
      "metadata": {
        "colab": {
          "base_uri": "https://localhost:8080/"
        },
        "id": "r_cCiyJVdg_7",
        "outputId": "11ea1d21-7525-4979-9fd8-083e9180e4bf"
      },
      "execution_count": null,
      "outputs": [
        {
          "output_type": "stream",
          "name": "stdout",
          "text": [
            "Precision: 0.974304068522484\n",
            "Recall: 0.8727621483375959\n",
            "F1 Score: 0.9207419898819561\n"
          ]
        }
      ]
    },
    {
      "cell_type": "code",
      "source": [],
      "metadata": {
        "id": "thh1usAx_eM3"
      },
      "execution_count": null,
      "outputs": []
    }
  ],
  "metadata": {
    "accelerator": "GPU",
    "colab": {
      "provenance": [],
      "gpuType": "T4"
    },
    "kernelspec": {
      "display_name": "Python 3",
      "name": "python3"
    },
    "language_info": {
      "name": "python"
    }
  },
  "nbformat": 4,
  "nbformat_minor": 0
}